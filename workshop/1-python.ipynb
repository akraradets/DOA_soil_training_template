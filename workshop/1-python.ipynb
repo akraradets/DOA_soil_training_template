{
 "cells": [
  {
   "cell_type": "markdown",
   "metadata": {},
   "source": [
    "# Python\n",
    "\n",
    "Is the programming language. \n",
    "There are many language and many kind/type that suited different tasks.\n",
    "\n",
    "the reason why we use `Python` is it has many users and many libraries with one of it is `PyTorch`.\n",
    "\n",
    "`PyTorch` is the core of this project.\n",
    "It enables us to use/desing/develop/train Deep Learning models.\n",
    "\n",
    "In this workshop, we will go through basic programming till `PyTorch`.\n",
    "Though, we may skip unrelated but still important aspect of programming."
   ]
  },
  {
   "cell_type": "markdown",
   "metadata": {},
   "source": [
    "## Integrated Development Evironment (IDE)\n",
    "\n",
    "Code is simply text. \n",
    "Any thing that let you write text can be used to write `Python`.\n",
    "However, with an appropriate app/tool, we can have a happier life writing `Python`.\n",
    "\n",
    "Such a thing is called *Integrated Developement Environment (IDE)*.\n",
    "A good IDE will help you write by suggesting code,error,auto-complete the code.\n",
    "\n",
    "Today, one, if not the most, famous IDE is *Visual Studio Code (VSCode)*.\n",
    "The one we use right now (if you use `codespace`) is *VSCode Web* which has nearly the same feature as normal VSCode.\n",
    "\n",
    "VSCode has an ability to install *extension* that enhance functionality of the VSCode.\n",
    "Earlier, we install `Python` and `Jupyter`. Without them VSCode don't understand `Python` code."
   ]
  },
  {
   "cell_type": "markdown",
   "metadata": {},
   "source": [
    "## Jupyter Notebook\n",
    "\n",
    "Normally, we write `Python` in a series of code and save into a file with extension name as `.py`.\n",
    "We will do that later. \n",
    "For now, we write `Python` in what is call `Jupyter Notebook`.\n",
    "\n",
    "`Jupyter Notebook` allowed you to write `Python` more interactively which make it easier to debug,modify the code and to present the result.\n",
    "\n",
    "What you read is a section of markdown language (oh no another language) that let us write document inbetween `Python` code.\n",
    "\n",
    "What you can also see is that the code is separate into `cell`. \n",
    "When you run the code, it only executes the code in the cell."
   ]
  },
  {
   "cell_type": "markdown",
   "metadata": {},
   "source": [
    "## 1. Programming\n",
    "\n",
    "`Python` is a language that let you instruct the machine what to do, in another word, program.\n",
    "It is not the only language that can program.\n",
    "Thus, this section is also apply to other programming language.\n",
    "\n",
    "### 1.1 Code structure\n",
    "\n",
    "A program consits of statment. \n",
    "We normally write a statement per line.\n",
    "\n",
    "Let's examine this code"
   ]
  },
  {
   "cell_type": "code",
   "execution_count": 1,
   "metadata": {},
   "outputs": [
    {
     "name": "stdout",
     "output_type": "stream",
     "text": [
      "1\n"
     ]
    }
   ],
   "source": [
    "a = 1\n",
    "print(1)"
   ]
  },
  {
   "cell_type": "markdown",
   "metadata": {},
   "source": [
    "The first statement is\n",
    "\n",
    "```python\n",
    "a = 1  \n",
    "```\n",
    "\n",
    "and the second statement is \n",
    "\n",
    "```python\n",
    "print(a)\n",
    "```\n",
    "\n",
    "You may say a statement is a command.\n",
    "\n",
    "The first statement `a = 1` asks the computer to create a `variable` named `a` and assign a value `1` into it.\n",
    "\n",
    "The second statement `print(a)` asks the computer to execute function `print()` that will print a value of variable `a` to the screen. "
   ]
  },
  {
   "cell_type": "markdown",
   "metadata": {},
   "source": [
    "### 1.2 Data type\n",
    "\n",
    "The first thing you need to know is always the data type and how to identify them\n"
   ]
  },
  {
   "cell_type": "markdown",
   "metadata": {},
   "source": [
    "### 1.3 Variable"
   ]
  },
  {
   "cell_type": "markdown",
   "metadata": {},
   "source": [
    "### 1.4 Mathematical Calculation"
   ]
  },
  {
   "cell_type": "markdown",
   "metadata": {},
   "source": [
    "### 1.5 Logical Expression"
   ]
  },
  {
   "cell_type": "markdown",
   "metadata": {},
   "source": [
    "### 1.6 Loop"
   ]
  },
  {
   "cell_type": "markdown",
   "metadata": {},
   "source": [
    "### 1.7 Function call"
   ]
  },
  {
   "cell_type": "markdown",
   "metadata": {},
   "source": [
    "### 1.8 Object/Class"
   ]
  },
  {
   "cell_type": "markdown",
   "metadata": {},
   "source": [
    "### 1.9 Error and Handling error"
   ]
  },
  {
   "cell_type": "markdown",
   "metadata": {},
   "source": [
    "### "
   ]
  }
 ],
 "metadata": {
  "kernelspec": {
   "display_name": ".venv",
   "language": "python",
   "name": "python3"
  },
  "language_info": {
   "codemirror_mode": {
    "name": "ipython",
    "version": 3
   },
   "file_extension": ".py",
   "mimetype": "text/x-python",
   "name": "python",
   "nbconvert_exporter": "python",
   "pygments_lexer": "ipython3",
   "version": "3.10.13"
  }
 },
 "nbformat": 4,
 "nbformat_minor": 2
}
