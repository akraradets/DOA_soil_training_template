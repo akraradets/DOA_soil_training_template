{
 "cells": [
  {
   "cell_type": "markdown",
   "metadata": {},
   "source": [
    "# The system\n",
    "\n",
    "In any typical Machine/Deep Learning (ML/DL) work, the components are (1) Data, (2) Model.\n",
    "\n",
    "Now, take a look at the `Explorer` on the left tab of `vs code`.\n",
    "\n",
    "The directoies look like this\n",
    "\n",
    "```\n",
    "./\n",
    "  |- .image/\n",
    "  |- .venv/      <--- Python Libraries\n",
    "  |- dataset/    <--- Where we keep dataset\n",
    "  |- models/     <--- Where we store model\n",
    "  |- workshop/\n",
    "  |- .Dockerfile\n",
    "  |- docker-compose.yml\n",
    "  |- Pipfile     <--- Where the list of needed Python libraries is\n",
    "  |- Pipfile.lock  <- Version control of Python libraries\n",
    "  |- README.md\n",
    "```\n",
    "\n",
    "In this workshop, we will go through the concept of ML/DL.\n",
    "\n",
    "*Note: We assume that you use `GitHub Codespaces`.*"
   ]
  },
  {
   "cell_type": "markdown",
   "metadata": {},
   "source": [
    "## 1. Upload some data\n",
    "\n",
    "Download this [OM_small.zip](https://drive.google.com/file/d/1vDrGGucumziZr5PWM9rbDgt-nzWfobgs/view?usp=share_link) from `Google Drive`.\n",
    "Then, upload the zip file to `Codespace`.\n",
    "\n",
    "Extract the zip file into the `dataset` folder.\n",
    "\n",
    "This is what you should have in the `dataset` folder.\n",
    "\n",
    "```txt\n",
    "./dataset\n",
    "  |- OM_small/\n",
    "      |- iphone 11/\n",
    "          |- Indoor/\n",
    "              |- 1/\n",
    "              |- 2/\n",
    "              ...\n",
    "          |- Outdoor/\n",
    "              |- 1/\n",
    "              |- 2/\n",
    "              ...\n",
    "      |- samsung S21/\n",
    "          |- Indoor/\n",
    "              |- 1/\n",
    "              |- 2/\n",
    "              ...\n",
    "          |- Outdoor/\n",
    "              |- 1/\n",
    "              |- 2/\n",
    "              ...\n",
    "  |- meta.csv\n",
    "```"
   ]
  },
  {
   "cell_type": "markdown",
   "metadata": {},
   "source": [
    "## 2. Understand Data a bit\n",
    "\n",
    "The sample of image from `OM_small` folder.\n",
    "\n",
    "<img src=\"../.image/sample.JPG\" width=\"200\"/>\n",
    "\n"
   ]
  },
  {
   "cell_type": "markdown",
   "metadata": {},
   "source": []
  }
 ],
 "metadata": {
  "language_info": {
   "name": "python"
  }
 },
 "nbformat": 4,
 "nbformat_minor": 2
}
